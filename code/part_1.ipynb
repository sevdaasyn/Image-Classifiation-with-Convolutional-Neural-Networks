{
  "nbformat": 4,
  "nbformat_minor": 0,
  "metadata": {
    "colab": {
      "name": "part1.ipynb",
      "version": "0.3.2",
      "provenance": [],
      "collapsed_sections": []
    },
    "kernelspec": {
      "name": "python3",
      "display_name": "Python 3"
    },
    "accelerator": "GPU"
  },
  "cells": [
    {
      "cell_type": "code",
      "metadata": {
        "id": "Iviwux9BXlwS",
        "colab_type": "code",
        "colab": {}
      },
      "source": [
        "from google.colab import drive\n",
        "drive.mount('/content/drive')"
      ],
      "execution_count": 0,
      "outputs": []
    },
    {
      "cell_type": "code",
      "metadata": {
        "id": "ufVPA9ODX-m_",
        "colab_type": "code",
        "colab": {}
      },
      "source": [
        "from __future__ import print_function, division\n",
        "\n",
        "import torch\n",
        "import torch.nn as nn\n",
        "import torch.optim as optim\n",
        "from torch.optim import lr_scheduler\n",
        "from torchvision import models\n",
        "from torch.autograd import Variable\n",
        "import numpy as np\n",
        "import torchvision\n",
        "from torchvision import datasets, models, transforms\n",
        "import matplotlib.pyplot as plt\n",
        "import time\n",
        "import os\n",
        "import copy\n",
        "from sklearn.svm import LinearSVC\n",
        "\n",
        "plt.ion()   # interactive mode\n",
        "\n",
        "data_dir = 'drive/My Drive/dataset/'\n",
        "data_transforms = {\n",
        "    \n",
        "    \"train\": transforms.Compose([\n",
        "        transforms.RandomResizedCrop(224),\n",
        "        transforms.RandomHorizontalFlip(),\n",
        "        transforms.ToTensor(),\n",
        "    ]),\n",
        "    \n",
        "    \"test\": transforms.Compose([\n",
        "        transforms.Resize(256),\n",
        "        transforms.CenterCrop(224),\n",
        "        transforms.ToTensor(),\n",
        "    ])\n",
        "}\n",
        "\n",
        "image_datasets = {\n",
        "    x: datasets.ImageFolder(\n",
        "        os.path.join(data_dir, x), \n",
        "        transform=data_transforms[x]\n",
        "    )\n",
        "    for x in [\"train\",  \"test\"]\n",
        "}\n",
        "\n",
        "dataloaders = {\n",
        "    x: torch.utils.data.DataLoader(\n",
        "        image_datasets[x], batch_size=8,\n",
        "        shuffle=True, num_workers=4\n",
        "    )\n",
        "    for x in [\"train\",  \"test\"]\n",
        "}\n",
        "\n",
        "dataset_sizes = {x: len(image_datasets[x]) for x in [\"train\", \"test\"]}\n",
        "#for x in [\"train\",  \"test\"]:\n",
        " #   print(\"Loaded {} images under {}\".format(dataset_sizes[x], x))\n",
        "\n",
        "#print(\"Classes: \")\n",
        "class_names = image_datasets[\"train\"].classes\n",
        "#print(image_datasets[\"train\"].classes)\n",
        "\n",
        "device = torch.device(\"cuda:0\" if torch.cuda.is_available() else \"cpu\")"
      ],
      "execution_count": 0,
      "outputs": []
    },
    {
      "cell_type": "code",
      "metadata": {
        "id": "dCTgA-JbcJ0e",
        "colab_type": "code",
        "colab": {}
      },
      "source": [
        "def calculate_svm(model):\n",
        "  \n",
        "    model.eval()\n",
        "    model.to(device)\n",
        "    \n",
        "    feat_train = []\n",
        "    feat_classes_train = []\n",
        "    feat_test = []\n",
        "    feat_classes_test = []\n",
        "    \n",
        "    with torch.no_grad():\n",
        "        for i, (inputs,classes) in enumerate(dataloaders['train']):\n",
        "            inputs = inputs.to(device)\n",
        "            outputs = model(inputs)\n",
        "            feat_train.extend(outputs.cpu().numpy())\n",
        "            feat_classes_train.extend(classes.cpu().numpy())\n",
        "            \n",
        "    with torch.no_grad():\n",
        "        for i, (inputs,classes) in enumerate(dataloaders['test']):\n",
        "            inputs = inputs.to(device)\n",
        "            outputs = model(inputs)\n",
        "            feat_test.extend(outputs.cpu().numpy())\n",
        "            feat_classes_test.extend(classes.cpu().numpy())\n",
        "            \n",
        "    clf_linear = LinearSVC(random_state=0, max_iter=1000)\n",
        "    classifier = clf_linear.fit(feat_train, feat_classes_train)\n",
        "\n",
        "    \n",
        "    print('Accuracy : {:.2f}'.format(100*clf_linear.score(feat_test,feat_classes_test)))\n",
        "    return (feat_train, feat_classes_train, feat_test, feat_classes_test, clf_linear)\n",
        "    \n",
        "    \n",
        "        \n",
        "vgg16 = models.vgg16(pretrained=True)   \n",
        "for param in vgg16.features.parameters():\n",
        "    param.requires_grad = False\n",
        "vgg16.classifier = nn.Sequential(*list(vgg16.classifier.children())[:-2])\n",
        "\n",
        "\n",
        "result_arrays = calculate_svm(vgg16)\n",
        "\n"
      ],
      "execution_count": 0,
      "outputs": []
    },
    {
      "cell_type": "code",
      "metadata": {
        "id": "OZmYcVfvi34t",
        "colab_type": "code",
        "outputId": "793047b9-416c-4e92-a918-a9117a0729c6",
        "colab": {
          "base_uri": "https://localhost:8080/",
          "height": 193
        }
      },
      "source": [
        "\n",
        "def calculate_classbased_accuracies(feat_train, feat_classes_train, feat_test, feat_classes_test, clf):\n",
        "    predictions = clf.predict(feat_test)\n",
        "    test_number = dataset_sizes['test']/len(image_datasets[\"test\"].classes)\n",
        "    \n",
        "    \n",
        "    true_pred = np.zeros(len(image_datasets[\"test\"].classes))\n",
        "    for i in range(len(predictions)):\n",
        "      if(predictions[i] == feat_classes_test[i]):\n",
        "        true_pred[predictions[i]] = true_pred[predictions[i]] + 1\n",
        "    for i in range(len(true_pred)):\n",
        "      true_pred[i] = 100* true_pred[i]/test_number\n",
        "      print(\"Class based accuracy for {} = {:.1f}%\".format(class_names[i], true_pred[i]))\n",
        "    \n",
        "    \n",
        "\n",
        "calculate_classbased_accuracies(result_arrays[0],result_arrays[1], result_arrays[2], result_arrays[3],result_arrays[4])"
      ],
      "execution_count": 0,
      "outputs": [
        {
          "output_type": "stream",
          "text": [
            "Class based accuracy for airport_inside = 60.0%\n",
            "Class based accuracy for bar = 76.0%\n",
            "Class based accuracy for bedroom = 72.0%\n",
            "Class based accuracy for casino = 88.0%\n",
            "Class based accuracy for inside_subway = 88.0%\n",
            "Class based accuracy for kitchen = 84.0%\n",
            "Class based accuracy for livingroom = 80.0%\n",
            "Class based accuracy for restaurant = 60.0%\n",
            "Class based accuracy for subway = 84.0%\n",
            "Class based accuracy for warehouse = 96.0%\n"
          ],
          "name": "stdout"
        }
      ]
    }
  ]
}